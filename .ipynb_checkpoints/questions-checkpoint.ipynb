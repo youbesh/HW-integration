{
 "cells": [
  {
   "cell_type": "markdown",
   "metadata": {},
   "source": [
    "# Integration exercises\n",
    "\n",
    "1. Fackler and Miranda exercise 5.1: Demand for a commodity is given by $q(p)=2p^{-0.5}$. The price of the good falls from 4 to 1. Compute the change in consumer surplus **analytically** using calculus and **numerically** using three different methods: a Gauss-Legendre rule, Monte-Carlo, and Quasi Monte Carlo.\n",
    "\n",
    "    1. Start out by plotting the demand function. In that plot, label the axis properly ($p$ on the $x$ axis), and add 2 horizontal lines for the equilibrium quantities at both prices $p=1,p=4$. This should help you visualize the consumer surplus, and it should guide you in the analytical solution. The simplest way to solve this first part would be to edit this `IJulia` notebook, just adding a code cell below (for the plot), and then one for the analytic solution. You can get and see how to use `IJulia` [by clicking on this link](https://github.com/JuliaLang/IJulia.jl).\n",
    "    1. To implement the integration rules, write 3 functions, one for each sub question, and detailed below. Let each function take as argument the number of integration points. Use $n=10,100,1000$ points. Each of those functions should produce the result (of course), as well as a plot where we can see integration nodes vs function value. We want to get an idea where each method places the points, and how this might influence the different results. Ideally, the result would tell us how far the corresponding method is away from your analytic solution. *Ideally*, your plot would show us all the results at once, so we can easily compare across methods.\n",
    "        1. Gauss-legendre rule. Note that you have to change the function domain to $[-1,1]$ first. This is achieved with the following transformation\n",
    "    $$ \\int_a^b f(x)\\,dx = \\frac{b-a}{2} \\int_{-1}^1 f\\left(\\frac{b-a}{2}x + \\frac{a+b}{2}\\right)dx $$\n",
    "        1. monte-carlo, again taking $n$ as an argument.\n",
    "        1. pseudo monte-carlo. Use a Sobol Sequence.\n",
    "\n",
    "\n",
    "2. Fackler and Miranda exercise 5.5: A government stabilizes the supply of a commodity at $S=2$, but allows the price to be determined on the market. Domestic and export demand for the commodity are given by $D = \\tilde{\\theta_1} p^{-1}, X = \\tilde{\\theta_2} p^{-0.5}$, and where $\\log \\tilde{\\theta_1}$ and $\\log \\tilde{\\theta_1}$ are both normally distributed with means 0, variances 0.02 and 0.01 respectively, and covariance 0.01.\n",
    "\n",
    "    1. compute the expected price $E[p]$ and expected variance $V[p]$ using a kronecker product rule with gauss-hermite grids (10) in each dimension of the shock.\n",
    "    1. perform the same computation with a monte carlo integration scheme."
   ]
  },
  {
   "cell_type": "code",
   "execution_count": 1,
   "metadata": {
    "collapsed": true
   },
   "outputs": [],
   "source": [
    "using Plots"
   ]
  },
  {
   "cell_type": "code",
   "execution_count": 2,
   "metadata": {
    "collapsed": false
   },
   "outputs": [
    {
     "name": "stderr",
     "output_type": "stream",
     "text": [
      "\u001b[1m\u001b[31mWARNING: No working GUI backend found for matplotlib.\u001b[0m\n"
     ]
    },
    {
     "data": {
      "text/plain": [
       "Plots.PyPlotBackend()"
      ]
     },
     "execution_count": 2,
     "metadata": {},
     "output_type": "execute_result"
    }
   ],
   "source": [
    "pyplot()"
   ]
  },
  {
   "cell_type": "code",
   "execution_count": 3,
   "metadata": {
    "collapsed": false
   },
   "outputs": [
    {
     "data": {
      "text/plain": [
       "q (generic function with 1 method)"
      ]
     },
     "execution_count": 3,
     "metadata": {},
     "output_type": "execute_result"
    }
   ],
   "source": [
    "q(p) = 2*(p^(-0.5))"
   ]
  },
  {
   "cell_type": "code",
   "execution_count": 4,
   "metadata": {
    "collapsed": false
   },
   "outputs": [
    {
     "data": {
      "text/plain": [
       "e2 (generic function with 1 method)"
      ]
     },
     "execution_count": 4,
     "metadata": {},
     "output_type": "execute_result"
    }
   ],
   "source": [
    "e1(p) = q(4)\n",
    "e2(p) = q(1) "
   ]
  },
  {
   "cell_type": "code",
   "execution_count": 24,
   "metadata": {
    "collapsed": false
   },
   "outputs": [
    {
     "data": {
      "text/html": [
       "<img src=\"data:image/png;base64,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\" />"
      ]
     },
     "execution_count": 24,
     "metadata": {},
     "output_type": "execute_result"
    }
   ],
   "source": [
    "plot(q, label=\"q(p)\", title=\"Demand for commodity\", 0, 6)\n",
    "plot!(e1, label=\"Quantity at p=4\")\n",
    "plot!(e2, label=\"Quantity at p=1\")\n",
    "xaxis!(\"p\")\n",
    "yaxis!(\"q\")"
   ]
  },
  {
   "cell_type": "code",
   "execution_count": 25,
   "metadata": {
    "collapsed": true
   },
   "outputs": [],
   "source": [
    "using LaTeXStrings"
   ]
  },
  {
   "cell_type": "code",
   "execution_count": 28,
   "metadata": {
    "collapsed": false
   },
   "outputs": [
    {
     "data": {
      "text/latex": [
       "It's easy to see from the graph that the change in surplus is equal to:\n",
       "$\\int_{1}^{4} 2p^{-0.5} dp = [4p^{0.5}]_{1}^{4} = 8 - 4 = 4$ \n"
      ],
      "text/plain": [
       "L\"It's easy to see from the graph that the change in surplus is equal to:\n",
       "$\\int_{1}^{4} 2p^{-0.5} dp = [4p^{0.5}]_{1}^{4} = 8 - 4 = 4$ \n",
       "\""
      ]
     },
     "execution_count": 28,
     "metadata": {},
     "output_type": "execute_result"
    }
   ],
   "source": [
    "L\"\"\"\n",
    "It's easy to see from the graph that the change in surplus is equal to:\n",
    "$\\int_{1}^{4} 2p^{-0.5} dp = [4p^{0.5}]_{1}^{4} = 8 - 4 = 4$ \n",
    "\"\"\""
   ]
  }
 ],
 "metadata": {
  "kernelspec": {
   "display_name": "Julia 0.5.0",
   "language": "julia",
   "name": "julia-0.5"
  },
  "language_info": {
   "file_extension": ".jl",
   "mimetype": "application/julia",
   "name": "julia",
   "version": "0.5.0"
  }
 },
 "nbformat": 4,
 "nbformat_minor": 0
}
